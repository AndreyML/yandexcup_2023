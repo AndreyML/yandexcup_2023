{
 "cells": [
  {
   "cell_type": "code",
   "execution_count": null,
   "id": "23fd8121",
   "metadata": {},
   "outputs": [],
   "source": [
    "!jupyter nbextension enable --py widgetsnbextension"
   ]
  },
  {
   "cell_type": "code",
   "execution_count": null,
   "id": "f93070d6",
   "metadata": {},
   "outputs": [],
   "source": [
    "import sys\n",
    "\n",
    "sys.path.append('../')"
   ]
  },
  {
   "cell_type": "code",
   "execution_count": null,
   "id": "340aceb6-4360-49ac-8381-bb42055d6146",
   "metadata": {},
   "outputs": [],
   "source": [
    "import pandas as pd\n",
    "import numpy as np\n",
    "import torch\n",
    "import torch.nn as nn\n",
    "from tqdm.autonotebook import tqdm\n",
    "from torch.utils.data import DataLoader\n",
    "from glob import glob\n",
    "from sklearn.model_selection import train_test_split\n",
    "from hyperopt import hp\n",
    "from sklearn.model_selection import KFold\n",
    "\n",
    "from src.data import TaggingDataset, collate_fn_test, collate_fn_train, NewTaggingDataset\n",
    "from src.models import (\n",
    "    BiLSTM,\n",
    "    ConvBERT,\n",
    "    BERT,\n",
    "    CompressBERT,\n",
    "    single_model,\n",
    "    predict,\n",
    "    train_model_early_stopping,\n",
    "    tune_params_and_fit,\n",
    ")\n",
    "from settings import BATCH_SIZE, CUDA_DEV, EMB_PATH, RANDOM_STATE"
   ]
  },
  {
   "cell_type": "code",
   "execution_count": null,
   "id": "29f35090-eb3d-464b-b46f-de30c4d42d4d",
   "metadata": {},
   "outputs": [],
   "source": [
    "df_train = pd.read_csv('train.csv')\n",
    "df_test = pd.read_csv('test.csv')"
   ]
  },
  {
   "cell_type": "code",
   "execution_count": null,
   "id": "b46b7d4b-785e-4187-b2bc-6c620c7b8cf1",
   "metadata": {},
   "outputs": [],
   "source": [
    "track_idx2embeds = {}\n",
    "max_len = 0\n",
    "for fn in tqdm(glob(EMB_PATH)[:250]):\n",
    "    track_idx = int(fn.split('\\\\')[-1].split('.')[0])\n",
    "    embeds = np.load(fn)\n",
    "    max_len = max(max_len, embeds.shape[0])\n",
    "    track_idx2embeds[track_idx] = embeds"
   ]
  },
  {
   "cell_type": "code",
   "execution_count": null,
   "id": "448ff0ee-2a61-4761-8d54-8b555bca7a09",
   "metadata": {
    "scrolled": true,
    "tags": []
   },
   "outputs": [],
   "source": [
    "df_train = df_train[df_train.track.isin(track_idx2embeds)]\n",
    "df_test = df_test[df_test.track.isin(track_idx2embeds)]\n",
    "predictions = np.zeros((len(df_test), 256))\n",
    "for i in range(8):\n",
    "    print(f\"Fold {i}:\")\n",
    "    train, val = train_test_split(df_train, test_size=0.2, random_state=42)\n",
    "    model = CompressBERT(hidden_dim=512, attn_heads=4, n_attn_layers=2, dropout=0.1, output_dim=32)\n",
    "    criterion = nn.BCEWithLogitsLoss()\n",
    "    model = model.to(CUDA_DEV)\n",
    "    criterion = criterion.to(CUDA_DEV)\n",
    "    optimizer = torch.optim.AdamW(model.parameters(), lr=6e-4)\n",
    "    scheduler = torch.optim.lr_scheduler.StepLR(optimizer, step_size=10, gamma=0.3)\n",
    "    train_dataset = NewTaggingDataset(train, track_idx2embeds=track_idx2embeds, max_len=max_len, i=i)\n",
    "    val_dataset = NewTaggingDataset(val, track_idx2embeds=track_idx2embeds, max_len=max_len, i=i)\n",
    "    train_dataloader = DataLoader(train_dataset, batch_size=BATCH_SIZE, shuffle=True, collate_fn=collate_fn_train)\n",
    "    val_dataloader = DataLoader(val_dataset, batch_size=BATCH_SIZE, shuffle=True, collate_fn=collate_fn_train)\n",
    "    test_dataset = NewTaggingDataset(df_test, testing=True, track_idx2embeds=track_idx2embeds, max_len=max_len, i=i)\n",
    "    test_dataloader = DataLoader(test_dataset, batch_size=BATCH_SIZE, collate_fn=collate_fn_test, shuffle=False)\n",
    "    best_model, metric = train_model_early_stopping(\n",
    "        model=model,\n",
    "        train_loader=train_dataloader,\n",
    "        val_loader=val_dataloader,\n",
    "        loss_function=criterion,\n",
    "        optimizer=optimizer,\n",
    "        scheduler=None,\n",
    "        device=CUDA_DEV,\n",
    "        early_stopping=4\n",
    "    )\n",
    "    torch.save(best_model.state_dict(), f\"../models/bert_{i}_{str(metric)[:5]}.pt\")\n",
    "    track_idxs, preds = predict(best_model, test_dataloader)\n",
    "    predictions[:, 32 * i:32 * (i + 1)] = preds"
   ]
  },
  {
   "cell_type": "code",
   "execution_count": null,
   "id": "70f38f54-5bdc-4b24-b711-83aa87f1f11f",
   "metadata": {},
   "outputs": [],
   "source": [
    "predictions_df = pd.DataFrame([\n",
    "    {'track': track, 'prediction': ','.join([str(p) for p in probs])}\n",
    "    for track, probs in zip(track_idxs, predictions)\n",
    "])"
   ]
  },
  {
   "cell_type": "code",
   "execution_count": null,
   "id": "810b0804-c39b-4cb3-9a00-fb443a8aa734",
   "metadata": {},
   "outputs": [],
   "source": [
    "predictions_df.to_csv('submit.csv', index=False)"
   ]
  },
  {
   "cell_type": "code",
   "execution_count": null,
   "id": "4daf63c5-45b4-4cb8-99f1-534fc8203caa",
   "metadata": {},
   "outputs": [],
   "source": []
  }
 ],
 "metadata": {
  "kernelspec": {
   "display_name": "yandexcup23-Pnkk8nie-py3.9",
   "language": "python",
   "name": "python3"
  },
  "language_info": {
   "codemirror_mode": {
    "name": "ipython",
    "version": 3
   },
   "file_extension": ".py",
   "mimetype": "text/x-python",
   "name": "python",
   "nbconvert_exporter": "python",
   "pygments_lexer": "ipython3",
   "version": "3.9.6"
  }
 },
 "nbformat": 4,
 "nbformat_minor": 5
}
